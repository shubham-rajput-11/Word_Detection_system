{
 "cells": [
  {
   "cell_type": "code",
   "execution_count": 1,
   "id": "1d2a6d24",
   "metadata": {},
   "outputs": [],
   "source": [
    "# Import PyTorch\n",
    "import torch\n",
    "from torch import nn\n",
    "import numpy as np"
   ]
  },
  {
   "cell_type": "code",
   "execution_count": 2,
   "id": "851d563b",
   "metadata": {},
   "outputs": [],
   "source": [
    "# Import torchvision\n",
    "import torchvision\n",
    "from torchvision import datasets\n",
    "from torchvision import transforms\n",
    "from torchvision.transforms import ToTensor"
   ]
  },
  {
   "cell_type": "code",
   "execution_count": 3,
   "id": "f959840b",
   "metadata": {},
   "outputs": [],
   "source": [
    "# Import matplotlib for visualization\n",
    "import matplotlib.pyplot as plt"
   ]
  },
  {
   "cell_type": "markdown",
   "id": "3cefd4cb",
   "metadata": {},
   "source": [
    "# Getting a Dataset"
   ]
  },
  {
   "cell_type": "code",
   "execution_count": 4,
   "id": "f0881089",
   "metadata": {},
   "outputs": [],
   "source": [
    "# setup training data\n",
    "from torchvision import datasets\n",
    "\n",
    "train_data = datasets.EMNIST(\n",
    "        root = \"data\",\n",
    "        split = \"letters\",\n",
    "        train = True,\n",
    "        download = True,\n",
    "        transform = torchvision.transforms.Compose([\n",
    "            lambda img : torchvision.transforms.functional.rotate(img,-90),\n",
    "            lambda img : torchvision.transforms.functional.hflip(img),\n",
    "            torchvision.transforms.ToTensor()\n",
    "        ]),\n",
    "        target_transform = None)\n"
   ]
  },
  {
   "cell_type": "code",
   "execution_count": 5,
   "id": "f0460f10",
   "metadata": {},
   "outputs": [],
   "source": [
    "# setup testing datasets\n",
    "test_data = datasets.EMNIST(\n",
    "        root = \"data\",\n",
    "        split = \"letters\",\n",
    "        train = False,\n",
    "        download = True,\n",
    "        transform = torchvision.transforms.Compose([\n",
    "            lambda img : torchvision.transforms.functional.rotate(img,-90),\n",
    "            lambda img : torchvision.transforms.functional.hflip(img),\n",
    "            torchvision.transforms.ToTensor()\n",
    "        ]),\n",
    "        target_transform = None)"
   ]
  },
  {
   "cell_type": "code",
   "execution_count": 6,
   "id": "99c8b5d9",
   "metadata": {},
   "outputs": [
    {
     "data": {
      "text/plain": [
       "['N/A',\n",
       " 'a',\n",
       " 'b',\n",
       " 'c',\n",
       " 'd',\n",
       " 'e',\n",
       " 'f',\n",
       " 'g',\n",
       " 'h',\n",
       " 'i',\n",
       " 'j',\n",
       " 'k',\n",
       " 'l',\n",
       " 'm',\n",
       " 'n',\n",
       " 'o',\n",
       " 'p',\n",
       " 'q',\n",
       " 'r',\n",
       " 's',\n",
       " 't',\n",
       " 'u',\n",
       " 'v',\n",
       " 'w',\n",
       " 'x',\n",
       " 'y',\n",
       " 'z']"
      ]
     },
     "execution_count": 6,
     "metadata": {},
     "output_type": "execute_result"
    }
   ],
   "source": [
    "class_names = train_data.classes\n",
    "class_names"
   ]
  },
  {
   "cell_type": "code",
   "execution_count": 7,
   "id": "5f36965e",
   "metadata": {},
   "outputs": [
    {
     "data": {
      "text/plain": [
       "{'N/A': 0,\n",
       " 'a': 1,\n",
       " 'b': 2,\n",
       " 'c': 3,\n",
       " 'd': 4,\n",
       " 'e': 5,\n",
       " 'f': 6,\n",
       " 'g': 7,\n",
       " 'h': 8,\n",
       " 'i': 9,\n",
       " 'j': 10,\n",
       " 'k': 11,\n",
       " 'l': 12,\n",
       " 'm': 13,\n",
       " 'n': 14,\n",
       " 'o': 15,\n",
       " 'p': 16,\n",
       " 'q': 17,\n",
       " 'r': 18,\n",
       " 's': 19,\n",
       " 't': 20,\n",
       " 'u': 21,\n",
       " 'v': 22,\n",
       " 'w': 23,\n",
       " 'x': 24,\n",
       " 'y': 25,\n",
       " 'z': 26}"
      ]
     },
     "execution_count": 7,
     "metadata": {},
     "output_type": "execute_result"
    }
   ],
   "source": [
    "class_to_idx = train_data.class_to_idx\n",
    "class_to_idx"
   ]
  },
  {
   "cell_type": "code",
   "execution_count": 8,
   "id": "c705e77f",
   "metadata": {},
   "outputs": [
    {
     "data": {
      "text/plain": [
       "tensor([23,  7, 16,  ..., 13, 15, 19])"
      ]
     },
     "execution_count": 8,
     "metadata": {},
     "output_type": "execute_result"
    }
   ],
   "source": [
    "train_data.targets"
   ]
  },
  {
   "cell_type": "code",
   "execution_count": 9,
   "id": "d2ea6dd9",
   "metadata": {},
   "outputs": [
    {
     "name": "stdout",
     "output_type": "stream",
     "text": [
      "Image shape: torch.Size([1, 28, 28]) -> [color_channels, height, width]\n",
      "Image label: w\n"
     ]
    }
   ],
   "source": [
    "# # check the shape of our image\n",
    "image,label = train_data[0]\n",
    "print(f\"Image shape: {image.shape} -> [color_channels, height, width]\")\n",
    "print(f\"Image label: {class_names[label]}\")"
   ]
  },
  {
   "cell_type": "markdown",
   "id": "eed8d6a1",
   "metadata": {},
   "source": [
    "# Visualizing images from data"
   ]
  },
  {
   "cell_type": "code",
   "execution_count": 10,
   "id": "f4b33531",
   "metadata": {},
   "outputs": [
    {
     "name": "stdout",
     "output_type": "stream",
     "text": [
      " Image shape :torch.Size([1, 28, 28])\n"
     ]
    },
    {
     "data": {
      "image/png": "[encoded data removed]",
      "text/plain": [
       "<Figure size 640x480 with 1 Axes>"
      ]
     },
     "metadata": {},
     "output_type": "display_data"
    }
   ],
   "source": [
    "# Import matplotlib for visualization\n",
    "import matplotlib.pyplot as plt\n",
    "\n",
    "image, label = train_data[0]\n",
    "print(f\" Image shape :{image.shape}\")\n",
    "\n",
    "\n",
    "        \n",
    "\n",
    "plt.imshow(image.squeeze());    # matplotlib only need height and width    .......squeeze():= remove singular dimension that is greyscale\n",
    "plt.title(class_names[label]);\n",
    "plt.axis(False);"
   ]
  },
  {
   "cell_type": "code",
   "execution_count": 11,
   "id": "b7cd9562",
   "metadata": {},
   "outputs": [
    {
     "data": {
      "image/png": "[encoded data removed]",
      "text/plain": [
       "<Figure size 640x480 with 1 Axes>"
      ]
     },
     "metadata": {},
     "output_type": "display_data"
    }
   ],
   "source": [
    "plt.imshow(image.squeeze(), cmap =\"gray\")\n",
    "plt.title(class_names[label]);\n",
    "plt.axis(False);"
   ]
  },
  {
   "cell_type": "markdown",
   "id": "230b7650",
   "metadata": {},
   "source": [
    "# Prepare for DataLoader\n",
    "\n",
    "right now, our data is in the form of pytorch Datasets.<br>\n",
    "Dataloader turns  our <b>dataset into a python iterable</b><br>\n",
    "More specifically , we want to turn our data into <b>batches</b> (or mini-batches).<br><br>\n",
    "Why would we do this ?<br>\n",
    "1. It is more computational efficient , as in, your computing hardware may not be able to look (store in memory) at 60,000 images in one hit. so we break it down to 32 images at a time (batch size of 32)\n",
    "2. It gives our neural network more chances to update its gradients per epoch.\n"
   ]
  },
  {
   "cell_type": "code",
   "execution_count": 12,
   "id": "943498b4",
   "metadata": {},
   "outputs": [],
   "source": [
    "## Prepare DataLoader"
   ]
  },
  {
   "cell_type": "code",
   "execution_count": 13,
   "id": "edb69ef7",
   "metadata": {},
   "outputs": [],
   "source": [
    "from torch.utils.data import DataLoader\n",
    "\n",
    "#setup batch size hyperparameter \n",
    "BATCH_SIZE = 32\n",
    "\n",
    "# turn datasets into iterables \n",
    "\n",
    "train_dataloader = DataLoader(\n",
    "                    dataset = train_data,\n",
    "                    batch_size = BATCH_SIZE,\n",
    "                    shuffle = True)\n",
    "\n",
    "test_dataloader = DataLoader(\n",
    "                    dataset = test_data,\n",
    "                    batch_size = BATCH_SIZE,\n",
    "                    shuffle = False)\n"
   ]
  },
  {
   "cell_type": "code",
   "execution_count": 14,
   "id": "c6409bef",
   "metadata": {},
   "outputs": [
    {
     "name": "stdout",
     "output_type": "stream",
     "text": [
      "Dataloader (<torch.utils.data.dataloader.DataLoader object at 0x000000C4518829D0>, <torch.utils.data.dataloader.DataLoader object at 0x000000C45187CF10>)\n",
      "length of train data: 124800\n",
      "length of train_dataloader:  3900\n",
      "length of test data: 20800\n",
      "length of test_dataloader:  650\n"
     ]
    }
   ],
   "source": [
    "# checkout what we created \n",
    "print(f\"Dataloader {train_dataloader , test_dataloader}\")\n",
    "print(\"length of train data:\",len(train_data))\n",
    "print(\"length of train_dataloader: \",len(train_dataloader))\n",
    "print(\"length of test data:\",len(test_data))\n",
    "print(\"length of test_dataloader: \",len(test_dataloader))"
   ]
  },
  {
   "cell_type": "code",
   "execution_count": 15,
   "id": "0d6c03ef",
   "metadata": {},
   "outputs": [
    {
     "data": {
      "text/plain": [
       "(torch.Size([32, 1, 28, 28]), torch.Size([32]))"
      ]
     },
     "execution_count": 15,
     "metadata": {},
     "output_type": "execute_result"
    }
   ],
   "source": [
    "train_features_batch , train_labels_batch = next(iter(train_dataloader))\n",
    "train_features_batch.shape , train_labels_batch.shape"
   ]
  },
  {
   "cell_type": "code",
   "execution_count": 16,
   "id": "9e0cc918",
   "metadata": {},
   "outputs": [
    {
     "name": "stdout",
     "output_type": "stream",
     "text": [
      "Image size:torch.Size([1, 28, 28])\n",
      "label:1,label size:torch.Size([])\n"
     ]
    },
    {
     "data": {
      "image/png": "[encoded data removed]",
      "text/plain": [
       "<Figure size 640x480 with 1 Axes>"
      ]
     },
     "metadata": {},
     "output_type": "display_data"
    }
   ],
   "source": [
    "# show a sample\n",
    "# torch.manual_seed(42)\n",
    "random_idx = torch.randint(0,len(train_features_batch),size=[1]).item()\n",
    "img , label = train_features_batch[random_idx] , train_labels_batch[random_idx]\n",
    "\n",
    "plt.imshow(img.squeeze(),cmap = \"gray\")\n",
    "plt.title(class_names[label])\n",
    "plt.axis(False)\n",
    "print(f\"Image size:{img.shape}\")\n",
    "print(f\"label:{label},label size:{label.shape}\")"
   ]
  },
  {
   "cell_type": "code",
   "execution_count": 17,
   "id": "5440a4d3",
   "metadata": {},
   "outputs": [
    {
     "name": "stdout",
     "output_type": "stream",
     "text": [
      "helper_functions.py already exists , skipping download ...\n"
     ]
    }
   ],
   "source": [
    "import requests\n",
    "from pathlib import Path\n",
    "\n",
    "# download helper functions from learn pytorch repo \n",
    "\n",
    "if Path(\"helper_functions.py\").is_file():\n",
    "    print(\"helper_functions.py already exists , skipping download ...\")\n",
    "else:\n",
    "    print(\"downloading helper_functions.py\")\n",
    "    request = requests.get(\"https://raw.githubusercontent.com/mrdbourke/pytorch-deep-learning/main/helper_functions.py\")# when dealing with github we need to pass raw link \n",
    "    with open(\"helper_functions.py\",\"wb\") as f:\n",
    "        f.write(request.content)\n",
    "        "
   ]
  },
  {
   "cell_type": "markdown",
   "id": "3b9af26b",
   "metadata": {},
   "source": [
    "### Creating a function to time our experiments\n",
    "\n",
    "Machine learning is very experimental .\n",
    "\n",
    "Two of the main things you'll often want to track are:\n",
    "1. Models performance (loss and accuracy values etc)\n",
    "2. How fast it runs "
   ]
  },
  {
   "cell_type": "code",
   "execution_count": 18,
   "id": "4288a3ae",
   "metadata": {},
   "outputs": [],
   "source": [
    "from timeit import default_timer as timer \n",
    "\n",
    "def print_train_time(start: float, end: float, device: torch.device = None):\n",
    "    '''Prints difference between start and end time.'''\n",
    "    total_time = end - start\n",
    "    print(f'train time on {device} : {total_time:.3f} seconds')\n",
    "    return total_time"
   ]
  },
  {
   "cell_type": "markdown",
   "id": "63bf13f0",
   "metadata": {},
   "source": [
    "# Creating a training loop and training  a model on batches of data \n",
    "\n",
    "1. Loop through epochs .\n",
    "2. Loop through training batches , perform training steps, calculate the train loss *per batch*\n",
    "3. Loop through testing batches , perform testing steps , calculate the test loss *per batch*\n",
    "4. Print out what's happening .\n",
    "5. Time it all "
   ]
  },
  {
   "cell_type": "code",
   "execution_count": 19,
   "id": "fd97373c",
   "metadata": {},
   "outputs": [],
   "source": [
    "def eval_model(model : torch.nn.Module,\n",
    "              data_loader : torch.utils.data.DataLoader,\n",
    "              loss_fn : torch.nn.Module,\n",
    "              accuracy_fn):\n",
    "    \n",
    "    '''Returns a dictionary containing the results of model predicting on data_loader.'''\n",
    "    loss, acc = 0,0\n",
    "    \n",
    "    model.eval()\n",
    "    with torch.inference_mode():\n",
    "        for x , y in tqdm(data_loader) :\n",
    "            # Make predictions\n",
    "            y_pred = model(x)\n",
    "            \n",
    "            # Accumulate the loss and accumulate values per batch \n",
    "            loss += loss_fn(y_pred,y)\n",
    "            acc += accuracy_fn(y_true = y ,y_pred = y_pred.argmax(dim = 1))\n",
    "        \n",
    "        # scale loss and acc to find the average loss/acc per batch\n",
    "        \n",
    "        loss /= len(data_loader)\n",
    "        acc /= len(data_loader)\n",
    "        \n",
    "    return {\"model_name:\":model.__class__.__name__ , # only works when model was created with a class \n",
    "           \"model_loss\":loss.item(),\n",
    "            \"model_acc\":acc\n",
    "           }"
   ]
  },
  {
   "cell_type": "code",
   "execution_count": 20,
   "id": "44682307",
   "metadata": {},
   "outputs": [],
   "source": [
    "#functionizing training loop\n",
    "\n",
    "def train_step(model: torch.nn.Module,\n",
    "              data_loader:torch.utils.data.DataLoader,\n",
    "              loss_fn:torch.nn.Module,\n",
    "              optimizer:torch.optim.Optimizer,\n",
    "              accuracy_fn\n",
    "              ):\n",
    "    '''performs  a training with model trying to learn on data_loader'''\n",
    "    train_loss , train_acc = 0,0\n",
    "    \n",
    "    for batch , (x,y) in enumerate(data_loader):\n",
    "        model.train()\n",
    "        \n",
    "        # 1. Forward pass \n",
    "        y_pred = model(x)\n",
    "        \n",
    "        # 2. Calculate loss (per batch)\n",
    "        loss = loss_fn(y_pred,y)\n",
    "        train_loss +=loss # cumulate the train loss for every batch\n",
    "        \n",
    "        # 3. Caluculate accuracy\n",
    "        train_acc += accuracy_fn(y_true = y , y_pred = y_pred.argmax(dim=1))\n",
    "        \n",
    "        # 3. optimizer zero grad\n",
    "        optimizer.zero_grad()\n",
    "        \n",
    "        # 4. Loss backward \n",
    "        loss.backward()\n",
    "        \n",
    "        # 5. Optimizer step\n",
    "        optimizer.step()\n",
    "    \n",
    "        #print out whats happening \n",
    "        if batch % 400 == 0:\n",
    "            print(f'looked at {batch * len(x)}/{len(data_loader.dataset)} samples .')\n",
    "    \n",
    "    # Divide total train_loss by length of train dataloader \n",
    "    train_loss /= len(data_loader)\n",
    "    train_acc /= len(data_loader)\n",
    "    print(f\"train loss: {train_loss:.5f} | train accuracy : {train_acc:.2f}% \\n\")"
   ]
  },
  {
   "cell_type": "code",
   "execution_count": 21,
   "id": "b941f848",
   "metadata": {},
   "outputs": [],
   "source": [
    "def test_step(model: torch.nn.Module,\n",
    "              data_loader:torch.utils.data.DataLoader,\n",
    "              loss_fn:torch.nn.Module,\n",
    "              optimizer:torch.optim.Optimizer,\n",
    "              accuracy_fn\n",
    "              ):\n",
    "    '''performs a testing with model trying to learn on data_loader'''\n",
    "    test_loss , test_acc = 0,0\n",
    "    model.eval()\n",
    "    with torch.inference_mode():\n",
    "        for x_test,y_test in test_dataloader :\n",
    "            # 1. forward pass\n",
    "            test_pred = model(x_test)\n",
    "            \n",
    "            # 2. test loss \n",
    "            test_loss += loss_fn(test_pred,y_test)\n",
    "            \n",
    "            # 3. Caluculate accuracy\n",
    "            test_acc += accuracy_fn(y_true = y_test , y_pred = test_pred.argmax(dim=1))       #argmax to get index pf which weight in labels is maximum \n",
    "            \n",
    "        # calculate the test loss average per batch\n",
    "        test_loss /= len(data_loader)\n",
    "        \n",
    "        # calculate the test Accuracy average per batch \n",
    "        test_acc /= len(data_loader)\n",
    "        \n",
    "        print(f\"Test Loss : {test_loss:.4f} , test acc: {test_acc:.4f}%\\n\")"
   ]
  },
  {
   "cell_type": "markdown",
   "id": "f706501a",
   "metadata": {},
   "source": [
    "# Building a Convolutional Neural Network (CNN)\n",
    "\n",
    "CNN's are also known ConvoNets.\n",
    "CNN's are known for their capabilties to find patterns in visual data ."
   ]
  },
  {
   "cell_type": "code",
   "execution_count": 22,
   "id": "2e4747af",
   "metadata": {},
   "outputs": [],
   "source": [
    "##cnn explainer"
   ]
  },
  {
   "cell_type": "code",
   "execution_count": 23,
   "id": "8bf57719",
   "metadata": {},
   "outputs": [],
   "source": [
    "# Create a concolutional neural network \n",
    "\n",
    "class CNNModel(nn.Module):\n",
    "\n",
    "    def __init__( self, input_shape:int,hidden_units:int,output_shape:int):\n",
    "        \n",
    "        super().__init__()\n",
    "        self.conv_block_1 = nn.Sequential(\n",
    "            nn.Conv2d(in_channels=input_shape ,\n",
    "                      out_channels = hidden_units,\n",
    "                      kernel_size = 3 ,\n",
    "                      stride=1 ,\n",
    "                      padding = 1) ,\n",
    "            nn.ReLU(),\n",
    "            nn.Conv2d(in_channels=hidden_units ,\n",
    "                      out_channels = hidden_units,\n",
    "                      kernel_size = 3 ,\n",
    "                      stride=1 ,\n",
    "                      padding = 1) ,\n",
    "            nn.ReLU(),\n",
    "            nn.MaxPool2d(kernel_size = 2)\n",
    "            \n",
    "        ) # values we can set ourselves in our NN's are called hyperparameters \n",
    "        \n",
    "        self.conv_block_2 = nn.Sequential(\n",
    "            nn.Conv2d(in_channels=hidden_units ,\n",
    "                      out_channels = hidden_units,\n",
    "                      kernel_size = 3 ,\n",
    "                      stride=1 ,\n",
    "                      padding = 1) ,\n",
    "            nn.ReLU(),\n",
    "            nn.Conv2d(in_channels=hidden_units ,\n",
    "                      out_channels = hidden_units,\n",
    "                      kernel_size = 3 ,\n",
    "                      stride=1 ,\n",
    "                      padding = 1) ,\n",
    "            nn.ReLU(),\n",
    "            nn.MaxPool2d(kernel_size = 2)\n",
    "            \n",
    "        )\n",
    "        \n",
    "        self.classifier = nn.Sequential(\n",
    "            nn.Flatten(),\n",
    "            nn.Linear(in_features=hidden_units*7*7, #trick to calculate this\n",
    "                     out_features=output_shape)\n",
    "        )\n",
    "        \n",
    "    def forward(self,x):\n",
    "        x = self.conv_block_1(x)\n",
    "#         print(x.shape)\n",
    "        x = self.conv_block_2(x)\n",
    "#         print(x.shape)\n",
    "        x = self.classifier(x)\n",
    "        \n",
    "        return x"
   ]
  },
  {
   "cell_type": "code",
   "execution_count": 24,
   "id": "b000c118",
   "metadata": {},
   "outputs": [
    {
     "data": {
      "text/plain": [
       "CNNModel(\n",
       "  (conv_block_1): Sequential(\n",
       "    (0): Conv2d(1, 27, kernel_size=(3, 3), stride=(1, 1), padding=(1, 1))\n",
       "    (1): ReLU()\n",
       "    (2): Conv2d(27, 27, kernel_size=(3, 3), stride=(1, 1), padding=(1, 1))\n",
       "    (3): ReLU()\n",
       "    (4): MaxPool2d(kernel_size=2, stride=2, padding=0, dilation=1, ceil_mode=False)\n",
       "  )\n",
       "  (conv_block_2): Sequential(\n",
       "    (0): Conv2d(27, 27, kernel_size=(3, 3), stride=(1, 1), padding=(1, 1))\n",
       "    (1): ReLU()\n",
       "    (2): Conv2d(27, 27, kernel_size=(3, 3), stride=(1, 1), padding=(1, 1))\n",
       "    (3): ReLU()\n",
       "    (4): MaxPool2d(kernel_size=2, stride=2, padding=0, dilation=1, ceil_mode=False)\n",
       "  )\n",
       "  (classifier): Sequential(\n",
       "    (0): Flatten(start_dim=1, end_dim=-1)\n",
       "    (1): Linear(in_features=1323, out_features=27, bias=True)\n",
       "  )\n",
       ")"
      ]
     },
     "execution_count": 24,
     "metadata": {},
     "output_type": "execute_result"
    }
   ],
   "source": [
    "model_2 = CNNModel(input_shape = 1,  #color units \n",
    "                   hidden_units = 27,\n",
    "                   output_shape = len(class_names)\n",
    "                  )\n",
    "\n",
    "model_2"
   ]
  },
  {
   "cell_type": "markdown",
   "id": "358687ff",
   "metadata": {},
   "source": [
    "# Setup loss function , optimizer for cnn model"
   ]
  },
  {
   "cell_type": "code",
   "execution_count": 25,
   "id": "d1c0e663",
   "metadata": {},
   "outputs": [],
   "source": [
    "# setup loss function \n",
    "from helper_functions import accuracy_fn\n",
    "\n",
    "loss_fn = nn.CrossEntropyLoss()\n",
    "\n",
    "optimizer = torch.optim.SGD(params = model_2.parameters(),\n",
    "                           lr=0.1)"
   ]
  },
  {
   "cell_type": "code",
   "execution_count": 26,
   "id": "ee6b46ee",
   "metadata": {},
   "outputs": [],
   "source": [
    "# model_2.state_dict()"
   ]
  },
  {
   "cell_type": "markdown",
   "id": "c46a085b",
   "metadata": {},
   "source": [
    "## training and testing cnn model"
   ]
  },
  {
   "cell_type": "code",
   "execution_count": null,
   "id": "bd970c96",
   "metadata": {},
   "outputs": [],
   "source": []
  },
  {
   "cell_type": "code",
   "execution_count": null,
   "id": "9c235c8e",
   "metadata": {},
   "outputs": [
    {
     "data": {
      "application/vnd.jupyter.widget-view+json": {
       "model_id": "5e5f08276869448bbf35a4ea6894e956",
       "version_major": 2,
       "version_minor": 0
      },
      "text/plain": [
       "  0%|          | 0/3 [00:00<?, ?it/s]"
      ]
     },
     "metadata": {},
     "output_type": "display_data"
    },
    {
     "name": "stdout",
     "output_type": "stream",
     "text": [
      "looked at 0/124800 samples .\n",
      "looked at 12800/124800 samples .\n",
      "looked at 25600/124800 samples .\n",
      "looked at 38400/124800 samples .\n",
      "looked at 51200/124800 samples .\n",
      "looked at 64000/124800 samples .\n",
      "looked at 76800/124800 samples .\n",
      "looked at 89600/124800 samples .\n",
      "looked at 102400/124800 samples .\n",
      "looked at 115200/124800 samples .\n",
      "train loss: 0.52217 | train accuracy : 83.94% \n",
      "\n",
      "Test Loss : 0.2999 , test acc: 90.4135%\n",
      "\n",
      "looked at 0/124800 samples .\n",
      "looked at 12800/124800 samples .\n",
      "looked at 25600/124800 samples .\n",
      "looked at 38400/124800 samples .\n",
      "looked at 51200/124800 samples .\n",
      "looked at 64000/124800 samples .\n",
      "looked at 76800/124800 samples .\n"
     ]
    }
   ],
   "source": [
    "# measure time\n",
    "from tqdm.auto import tqdm\n",
    "from timeit import default_timer as timer \n",
    "train_time_start = timer()\n",
    "\n",
    "\n",
    "epochs = 3\n",
    "\n",
    "for epoch in tqdm(range(epochs)):\n",
    "    \n",
    "    train_step(model = model_2,\n",
    "              data_loader=train_dataloader,\n",
    "               loss_fn = loss_fn,\n",
    "               optimizer = optimizer,\n",
    "               accuracy_fn=accuracy_fn)\n",
    "    \n",
    "    test_step(model = model_2,\n",
    "              data_loader=test_dataloader,\n",
    "               loss_fn = loss_fn,\n",
    "               optimizer = optimizer,\n",
    "               accuracy_fn=accuracy_fn)\n",
    "    \n",
    "train_time_end = timer()\n",
    "total_trian_time = print_train_time(start = train_time_start , end = train_time_end,device=\"cpu\")"
   ]
  },
  {
   "cell_type": "code",
   "execution_count": null,
   "id": "57c75a93",
   "metadata": {},
   "outputs": [],
   "source": [
    "print(f\" Train time in minutes : {total_trian_time//60} min.\")"
   ]
  },
  {
   "cell_type": "code",
   "execution_count": null,
   "id": "95147c45",
   "metadata": {},
   "outputs": [],
   "source": [
    "# get model_2 results \n",
    "\n",
    "model_2_results = eval_model(\n",
    "    model = model_2,\n",
    "    data_loader = test_dataloader,\n",
    "    loss_fn = loss_fn,\n",
    "    accuracy_fn = accuracy_fn   \n",
    ")\n",
    "\n",
    "model_2_results"
   ]
  },
  {
   "cell_type": "code",
   "execution_count": null,
   "id": "03a5f9ba",
   "metadata": {},
   "outputs": [],
   "source": [
    "def make_predictions( model:torch.nn.Module,\n",
    "                    data: list,\n",
    "                    device: torch.device = \"cpu\"):\n",
    "    pred_probs = []\n",
    "    model.eval()\n",
    "    with torch.inference_mode():\n",
    "        for sample in data :\n",
    "            # prepare the sample (add a batch dimension and pass to target device )\n",
    "            sample = torch.unsqueeze(sample,dim=0)\n",
    "            \n",
    "            # forward pass (model outputs raw logits)\n",
    "            pred_logit = model(sample)\n",
    "            \n",
    "            # get prediction probability (logit -> prediction probability)\n",
    "            pred_prob = torch.softmax(pred_logit.squeeze(), dim=0)\n",
    "            \n",
    "            # get pred_prob off the GPU for further calculations\n",
    "            pred_probs.append(pred_prob)\n",
    "            \n",
    "        #stack the pred_probs to turn list into a tensor \n",
    "        return torch.stack(pred_probs)\n",
    "    "
   ]
  },
  {
   "cell_type": "code",
   "execution_count": null,
   "id": "407981ed",
   "metadata": {},
   "outputs": [],
   "source": [
    "model_2 = CNNModel(input_shape = 1,  #color units \n",
    "                   hidden_units = 27,\n",
    "                   output_shape = len(class_names)\n",
    "                  )\n"
   ]
  },
  {
   "cell_type": "code",
   "execution_count": null,
   "id": "60400fa0",
   "metadata": {},
   "outputs": [],
   "source": [
    "PATH = 'models/CNN_model_letter_detection.pth'\n",
    "model_2.load_state_dict(torch.load(PATH))\n",
    "model_2.eval()"
   ]
  },
  {
   "cell_type": "code",
   "execution_count": null,
   "id": "6e742998",
   "metadata": {},
   "outputs": [],
   "source": [
    "import random\n",
    "# random.seed(42)\n",
    "test_samples = []\n",
    "test_labels = []\n",
    "\n",
    "for sample , label in random.sample(list(test_data), k=9):\n",
    "    test_samples.append(sample)\n",
    "    test_labels.append(label)\n",
    "    \n",
    "# # view the first sample shape \n",
    "# test_samples[0].shape\n",
    "\n",
    "# make predictions\n",
    "pred_probs = make_predictions(model = model_2,\n",
    "                             data = test_samples)\n",
    "\n",
    "# # view first two prediction probabilites \n",
    "# pred_probs[:2]\n",
    "\n",
    "# convert prediction probabilities to labels \n",
    "pred_classes = pred_probs.argmax(dim=1)\n",
    "\n",
    "\n",
    "# Plot predictiions \n",
    "plt.figure(figsize=(9,9))\n",
    "nrows = 3\n",
    "ncols = 3\n",
    "\n",
    "for i, sample in enumerate(test_samples):\n",
    "    # create subplot \n",
    "    plt.subplot(nrows,ncols,i+1)\n",
    "    \n",
    "    # plot the target image\n",
    "    plt.imshow(sample.squeeze(), cmap=\"gray\")\n",
    "    \n",
    "    # Find the prediction (in text form)\n",
    "    pred_label = class_names[pred_classes[i]]\n",
    "    \n",
    "    # get the truth label (in text form )\n",
    "    truth_label = class_names[test_labels[i]]\n",
    "    \n",
    "    # create a title for the plot \n",
    "    title_text = f\"pred : {pred_label} | Truth: { truth_label}\"\n",
    "    \n",
    "    # check for equality between pred and truth  and change color of title text\n",
    "    if pred_label == truth_label :\n",
    "        plt.title(title_text, fontsize = 10, c=\"g\") # green text if prediction same as truth \n",
    "    else:\n",
    "        plt.title(title_text, fontsize = 10,c='r')\n",
    "    "
   ]
  },
  {
   "cell_type": "markdown",
   "id": "9caa1a9e",
   "metadata": {},
   "source": [
    "# making a confusion matrix for further prediction evaluation "
   ]
  },
  {
   "cell_type": "code",
   "execution_count": null,
   "id": "b31567f9",
   "metadata": {},
   "outputs": [],
   "source": [
    "# import tqdm.auto\n",
    "from tqdm.auto import tqdm\n",
    "\n",
    "# 1. make predictions with trained model\n",
    "y_preds = []\n",
    "model_2.eval()\n",
    "\n",
    "with torch.inference_mode():\n",
    "    for x,y in tqdm(test_dataloader , desc =\"Making predictions ...\"):\n",
    "        \n",
    "        # do the forward pass\n",
    "        y_logit = model_2(x)\n",
    "        \n",
    "        # turn predictions from logits -> prediction probabilties -> prediction labels\n",
    "        y_pred = torch.softmax(y_logit.squeeze(),dim=0).argmax(dim=1)\n",
    "        \n",
    "        #put prediction on cpu for evaluation\n",
    "        y_preds.append(y_pred)\n",
    "        \n",
    "# concatenate list of predictions into a tensor\n",
    "\n",
    "y_pred_tensor = torch.cat(y_preds)\n",
    "y_pred_tensor\n",
    "        "
   ]
  },
  {
   "cell_type": "code",
   "execution_count": null,
   "id": "96bda45f",
   "metadata": {},
   "outputs": [],
   "source": [
    "import torchmetrics, mlxtend\n",
    "mlxtend.__version__"
   ]
  },
  {
   "cell_type": "code",
   "execution_count": null,
   "id": "91e7bdec",
   "metadata": {},
   "outputs": [],
   "source": [
    "from torchmetrics import ConfusionMatrix\n",
    "from mlxtend.plotting import plot_confusion_matrix\n",
    "\n",
    "import numpy\n",
    "# 2. Setup confusion instance and compare predictions to targets\n",
    "confmat = ConfusionMatrix(num_classes = len(class_names),task='multiclass')\n",
    "confmat_tensor = confmat(preds = y_pred_tensor , target = test_data.targets)\n",
    "\n",
    "# 3. plot the confusion matrix \n",
    "fig , ax = plot_confusion_matrix(conf_mat = confmat_tensor.numpy(),   #matplotlib likes working with numpy \n",
    "                                class_names = class_names,\n",
    "                                figsize=(15,15))"
   ]
  },
  {
   "cell_type": "code",
   "execution_count": null,
   "id": "73e11752",
   "metadata": {},
   "outputs": [],
   "source": [
    "confmat_tensor"
   ]
  },
  {
   "cell_type": "markdown",
   "id": "ded77196",
   "metadata": {},
   "source": [
    "# Save and load best performing model"
   ]
  },
  {
   "cell_type": "code",
   "execution_count": null,
   "id": "aac7b9a3",
   "metadata": {},
   "outputs": [],
   "source": [
    "from pathlib import Path\n",
    "\n",
    "# create model directory path\n",
    "\n",
    "MODEL_PATH = Path(\"models\")\n",
    "MODEL_PATH.mkdir(parents = True ,\n",
    "                exist_ok = True)\n",
    "\n",
    "# create model save \n",
    "MODEL_NAME = \"CNN_model_letter_detection.pth\"\n",
    "MODEL_SAVE_PATH = MODEL_PATH/MODEL_NAME\n",
    "\n",
    "MODEL_SAVE_PATH"
   ]
  },
  {
   "cell_type": "code",
   "execution_count": null,
   "id": "9bd2f98c",
   "metadata": {},
   "outputs": [],
   "source": [
    "# save the model state dict\n",
    "print(f\"Saving model to: {MODEL_SAVE_PATH}\")\n",
    "torch.save(obj = model_2.state_dict(),f = MODEL_SAVE_PATH)"
   ]
  },
  {
   "cell_type": "code",
   "execution_count": null,
   "id": "53326365",
   "metadata": {},
   "outputs": [],
   "source": [
    "model_2.state_dict()"
   ]
  },
  {
   "cell_type": "code",
   "execution_count": null,
   "id": "ff42a81c",
   "metadata": {},
   "outputs": [],
   "source": [
    "import matplotlib.pyplot as plt\n",
    "def display(im_path):\n",
    "    dpi = 80\n",
    "    im_data = plt.imread(im_path)\n",
    "    if(len(im_data.shape)==2):\n",
    "        height , width = im_data.shape\n",
    "    else:\n",
    "        height , width , depth = im_data.shape\n",
    "    \n",
    "    # what size does the figure need to be in inches to fit the image?\n",
    "    figsize = width / float(dpi) , height / float(dpi)\n",
    "    \n",
    "    # create a figure of the right size with one axes that takes up the ull figure \n",
    "    fig = plt.figure(figsize=figsize)\n",
    "    ax = fig.add_axes([0,0,1,1])\n",
    "    \n",
    "    # Hide spines, ticks etc.\n",
    "    ax.axis('off')\n",
    "    \n",
    "    #display the image\n",
    "    ax.imshow(im_data , cmap=\"gray\")\n",
    "    plt.show()"
   ]
  },
  {
   "cell_type": "code",
   "execution_count": null,
   "id": "d5be383e",
   "metadata": {},
   "outputs": [],
   "source": [
    "import cv2\n",
    "image_url = \"image_for_practice_.jpg\"\n",
    "\n",
    "\n",
    "def create_bounding_boxes(image_url):\n",
    "    image = cv2.imread(image_url)\n",
    "    \n",
    "    gray = cv2.cvtColor(image,cv2.COLOR_BGR2GRAY)\n",
    "#     print(\"gray\")\n",
    "#     cv2.imwrite(\"bbox_gray.jpg\",gray)\n",
    "#     display(\"bbox_gray.jpg\")\n",
    "    blur = cv2.GaussianBlur(gray,(7,7),0)        #object,size of blurring,\n",
    "#     print(\"blur\")\n",
    "#     cv2.imwrite(\"bbox_blur.jpg\",blur)\n",
    "#     display(\"bbox_blur.jpg\")\n",
    "    thresh = cv2.threshold(blur,0,255,cv2.THRESH_BINARY_INV + cv2.THRESH_OTSU)[1]       # blurr object , range ,\n",
    "#     print(\"thresh\")\n",
    "#     cv2.imwrite(\"bbox_thresh.jpg\",thresh)\n",
    "#     display(\"bbox_thresh.jpg\")\n",
    "    kernel = cv2.getStructuringElement(cv2.MORPH_RECT,(3,13))\n",
    "    \n",
    "    dilate = cv2.dilate(thresh, kernel , iterations=1)\n",
    "#     print(\"dilate\")\n",
    "#     cv2.imwrite(\"bbox_dilate.jpg\",dilate)\n",
    "#     display(\"bbox_dilate.jpg\")\n",
    "#     cnts = cv2.findContours(dilate, cv2.RETR_EXTERNAL, cv2.CHAIN_APPROX_SIMPLE)\n",
    "    cnts = cv2.findContours(thresh, cv2.RETR_EXTERNAL, cv2.CHAIN_APPROX_SIMPLE)\n",
    "    cnts = cnts[0] if len(cnts)==2 else cnts[1]\n",
    "    \n",
    "    cnts = sorted(cnts, key=lambda x:cv2.boundingRect(x)[0])\n",
    "    i=1\n",
    "    word_bounding_boxes = []\n",
    "    for c in cnts:\n",
    "        x,y,w,h = cv2.boundingRect(c)\n",
    "        if h<30:\n",
    "            cv2.rectangle(image,(x,y),(x+w,y+h),(36,255,12),1)\n",
    "            word_bounding_boxes.append((x,y,w,h))\n",
    "            \n",
    "            # Crop the region from the image\n",
    "            cropped_image = image[y:y+h, x:x+w]           \n",
    "            \n",
    "            print(f\"bbox{i}\")\n",
    "            \n",
    "            \n",
    "            # Save the cropped image\n",
    "            cv2.imwrite(f'cropped_image{i}.jpg', cropped_image)\n",
    "            display(f'cropped_image{i}.jpg')\n",
    "            \n",
    "            i+=1\n",
    "#             cv2.imwrite(\"bbox_image.jpg\",image)\n",
    "#             display(\"bbox_image.jpg\")"
   ]
  },
  {
   "cell_type": "code",
   "execution_count": null,
   "id": "ce360acb",
   "metadata": {},
   "outputs": [],
   "source": [
    "create_bounding_boxes(image_url)"
   ]
  }
 ],
 "metadata": {
  "kernelspec": {
   "display_name": "Python 3 (ipykernel)",
   "language": "python",
   "name": "python3"
  },
  "language_info": {
   "codemirror_mode": {
    "name": "ipython",
    "version": 3
   },
   "file_extension": ".py",
   "mimetype": "text/x-python",
   "name": "python",
   "nbconvert_exporter": "python",
   "pygments_lexer": "ipython3",
   "version": "3.11.1"
  }
 },
 "nbformat": 4,
 "nbformat_minor": 5
}
